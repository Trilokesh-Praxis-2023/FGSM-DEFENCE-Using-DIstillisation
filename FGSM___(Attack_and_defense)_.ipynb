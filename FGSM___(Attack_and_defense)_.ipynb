{
  "cells": [
    {
      "cell_type": "markdown",
      "metadata": {
        "id": "Uj6n6ZcjEHfY"
      },
      "source": [
        "# **Import**"
      ]
    },
    {
      "cell_type": "code",
      "execution_count": 1,
      "metadata": {
        "colab": {
          "base_uri": "https://localhost:8080/"
        },
        "id": "hXl2ZQaSjz8v",
        "outputId": "ddc561d2-1228-41b6-bc40-6f5dd9540824"
      },
      "outputs": [
        {
          "output_type": "stream",
          "name": "stdout",
          "text": [
            "/bin/bash: line 1: CUDA_version: No such file or directory\n",
            "/bin/bash: line 1: CUDA_version: No such file or directory\n",
            "/bin/bash: line 1: CUDA_version: No such file or directory\n",
            "nvcc: NVIDIA (R) Cuda compiler driver\n",
            "Copyright (c) 2005-2023 NVIDIA Corporation\n",
            "Built on Tue_Aug_15_22:02:13_PDT_2023\n",
            "Cuda compilation tools, release 12.2, V12.2.140\n",
            "Build cuda_12.2.r12.2/compiler.33191640_0\n"
          ]
        }
      ],
      "source": [
        "# Step 1: Download CUDA installer for Linux\n",
        "# Replace <CUDA_version> with the version you want to install (e.g., 11.0)\n",
        "!wget https://developer.download.nvidia.com/compute/cuda/<CUDA_version>/local_installers/cuda_<CUDA_version>_linux.run\n",
        "\n",
        "# Step 2: Make installer executable and run\n",
        "!chmod +x cuda_<CUDA_version>_linux.run\n",
        "!sudo ./cuda_<CUDA_version>_linux.run --silent --override\n",
        "\n",
        "# Step 3: Update environment variables\n",
        "# import os\n",
        "# os.environ['PATH'] += \":/usr/local/cuda/bin\"\n",
        "# os.environ['LD_LIBRARY_PATH'] += \":/usr/local/cuda/lib64\"\n",
        "\n",
        "# # Step 4: Verify installation\n",
        "!nvcc --version\n",
        "import os\n",
        "os.environ['TORCH_USE_CUDA_DSA'] = '1'\n",
        "\n"
      ]
    },
    {
      "cell_type": "code",
      "execution_count": 2,
      "metadata": {
        "id": "aGrkQarm97Ye"
      },
      "outputs": [],
      "source": [
        "import numpy as np\n",
        "import matplotlib.pyplot as plt\n",
        "import torch\n",
        "import torch.nn as nn\n",
        "import torch.nn.functional as F\n",
        "import torch.optim as optim\n",
        "from torchvision import transforms,datasets\n",
        "import torchvision\n",
        "from sklearn.metrics import confusion_matrix\n",
        "from sklearn.model_selection import train_test_split\n",
        "import pandas as pd\n",
        "import torch.optim as optim\n",
        "from torch.optim.lr_scheduler import ReduceLROnPlateau"
      ]
    },
    {
      "cell_type": "code",
      "execution_count": 3,
      "metadata": {
        "colab": {
          "base_uri": "https://localhost:8080/"
        },
        "id": "0Rt-4inOweid",
        "outputId": "a13e6877-7683-457c-ad6b-68f0f57a7f62"
      },
      "outputs": [
        {
          "output_type": "execute_result",
          "data": {
            "text/plain": [
              "device(type='cuda')"
            ]
          },
          "metadata": {},
          "execution_count": 3
        }
      ],
      "source": [
        "np.random.seed(42)\n",
        "torch.manual_seed(42)\n",
        "use_cuda=True\n",
        "device = torch.device(\"cuda\" if (use_cuda and torch.cuda.is_available()) else \"cpu\")\n",
        "device"
      ]
    },
    {
      "cell_type": "code",
      "execution_count": 4,
      "metadata": {
        "colab": {
          "base_uri": "https://localhost:8080/"
        },
        "id": "GkxWvr7aviFj",
        "outputId": "fef683d5-de86-48b7-ee67-fc9456526bf3"
      },
      "outputs": [
        {
          "output_type": "stream",
          "name": "stdout",
          "text": [
            "Downloading https://www.cs.toronto.edu/~kriz/cifar-10-python.tar.gz to ./data/cifar-10-python.tar.gz\n"
          ]
        },
        {
          "output_type": "stream",
          "name": "stderr",
          "text": [
            "100%|██████████| 170498071/170498071 [00:12<00:00, 13156107.64it/s]\n"
          ]
        },
        {
          "output_type": "stream",
          "name": "stdout",
          "text": [
            "Extracting ./data/cifar-10-python.tar.gz to ./data\n",
            "Files already downloaded and verified\n"
          ]
        }
      ],
      "source": [
        "transform = transforms.Compose([\n",
        "    transforms.ToTensor(),\n",
        "    transforms.Normalize((0.4914, 0.4822, 0.4465), (0.247, 0.243, 0.261))\n",
        "])\n",
        "\n",
        "\n",
        "trainset = torchvision.datasets.CIFAR10(root='./data', train=True,\n",
        "                                        download=True, transform=transform)\n",
        "\n",
        "# Split trainset into train and validation sets\n",
        "trainset, valset = torch.utils.data.random_split(trainset, [40000, 10000])\n",
        "\n",
        "trainloader = torch.utils.data.DataLoader(trainset, batch_size=64,\n",
        "                                          shuffle=True, num_workers=2)\n",
        "\n",
        "valloader = torch.utils.data.DataLoader(valset, batch_size=64,\n",
        "                                        shuffle=False, num_workers=2)\n",
        "\n",
        "testset = torchvision.datasets.CIFAR10(root='./data', train=False,\n",
        "                                       download=True, transform=transform)\n",
        "testloader = torch.utils.data.DataLoader(testset, batch_size=64,\n",
        "                                         shuffle=False, num_workers=2)\n",
        "\n",
        "classes = ('plane', 'car', 'bird', 'cat',\n",
        "           'deer', 'dog', 'frog', 'horse', 'ship', 'truck')\n"
      ]
    },
    {
      "cell_type": "markdown",
      "metadata": {
        "id": "ojfonaxgSvQE"
      },
      "source": [
        "# **Attack Using FGSM**"
      ]
    },
    {
      "cell_type": "code",
      "execution_count": 5,
      "metadata": {
        "id": "J-WKoIKbEYk1",
        "colab": {
          "base_uri": "https://localhost:8080/"
        },
        "outputId": "8661cfa3-2fdb-40b8-e97a-acf58eb1f929"
      },
      "outputs": [
        {
          "output_type": "stream",
          "name": "stderr",
          "text": [
            "/usr/local/lib/python3.10/dist-packages/torchvision/models/_utils.py:208: UserWarning: The parameter 'pretrained' is deprecated since 0.13 and may be removed in the future, please use 'weights' instead.\n",
            "  warnings.warn(\n",
            "/usr/local/lib/python3.10/dist-packages/torchvision/models/_utils.py:223: UserWarning: Arguments other than a weight enum or `None` for 'weights' are deprecated since 0.13 and may be removed in the future. The current behavior is equivalent to passing `weights=ResNeXt50_32X4D_Weights.IMAGENET1K_V1`. You can also use `weights=ResNeXt50_32X4D_Weights.DEFAULT` to get the most up-to-date weights.\n",
            "  warnings.warn(msg)\n",
            "Downloading: \"https://download.pytorch.org/models/resnext50_32x4d-7cdf4587.pth\" to /root/.cache/torch/hub/checkpoints/resnext50_32x4d-7cdf4587.pth\n",
            "100%|██████████| 95.8M/95.8M [00:00<00:00, 180MB/s]\n"
          ]
        }
      ],
      "source": [
        "import torch\n",
        "import torch.nn as nn\n",
        "import torch.nn.functional as F\n",
        "import torchvision.models as models\n",
        "\n",
        "class NetF(nn.Module):\n",
        "    def __init__(self):\n",
        "        super(NetF, self).__init__()\n",
        "        # Load the pre-trained resnext50_32x4d model\n",
        "        self.resnext = models.resnext50_32x4d(pretrained=True)\n",
        "\n",
        "        # Modify the head of the model\n",
        "        num_features = self.resnext.fc.in_features\n",
        "        self.resnext.fc = nn.Identity()  # Remove the fully connected layer\n",
        "\n",
        "        # Define the head of the model\n",
        "        self.head = nn.Sequential(\n",
        "            nn.Linear(num_features, 1024),\n",
        "            nn.ReLU(),\n",
        "            nn.Dropout(0.5),\n",
        "            nn.Linear(1024, 512),\n",
        "            nn.ReLU(),\n",
        "            nn.Dropout(0.5),\n",
        "            nn.Linear(512, 128),\n",
        "            nn.ReLU(),\n",
        "            nn.Dropout(0.5),\n",
        "            nn.Linear(128, 10)  # Output layer\n",
        "        )\n",
        "\n",
        "    def forward(self, x):\n",
        "        # Forward pass through the modified resnext50_32x4d model\n",
        "        x = self.resnext(x)\n",
        "        # Forward pass through the head of the model\n",
        "        x = self.head(x)\n",
        "        return x\n",
        "\n",
        "# Instantiate the model\n",
        "modelF = NetF()"
      ]
    },
    {
      "cell_type": "code",
      "execution_count": 6,
      "metadata": {
        "id": "yiX8fKnhYMu4"
      },
      "outputs": [],
      "source": [
        "def fit(model, device, train_loader, val_loader, epochs):\n",
        "    data_loader = {'train': train_loader, 'val': val_loader}\n",
        "    print(\"Fitting the model...\")\n",
        "    train_loss, val_loss = [], []\n",
        "    train_accuracies, test_losses, test_accuracies = [], [], []\n",
        "    for epoch in range(epochs):\n",
        "        loss_per_epoch, val_loss_per_epoch = 0, 0\n",
        "        correct_train, correct_val, total_train, total_val = 0, 0, 0, 0\n",
        "\n",
        "        for phase in ('train', 'val'):\n",
        "            if phase == 'train':\n",
        "                model.train()\n",
        "            else:\n",
        "                model.eval()\n",
        "\n",
        "            for i, data in enumerate(data_loader[phase]):\n",
        "                inputs, labels = data[0].to(device), data[1].to(device)\n",
        "                outputs = model(inputs)\n",
        "                loss = criterion(outputs, labels)\n",
        "\n",
        "                if phase == 'train':\n",
        "                    optimizer.zero_grad()\n",
        "                    loss.backward()\n",
        "                    optimizer.step()\n",
        "                    loss_per_epoch += loss.item() * inputs.size(0)\n",
        "                    _, predicted_train = torch.max(outputs, 1)\n",
        "                    correct_train += (predicted_train == labels).sum().item()\n",
        "                    total_train += labels.size(0)\n",
        "                else:\n",
        "                    val_loss_per_epoch += loss.item() * inputs.size(0)\n",
        "                    _, predicted_val = torch.max(outputs, 1)\n",
        "                    correct_val += (predicted_val == labels).sum().item()\n",
        "                    total_val += labels.size(0)\n",
        "\n",
        "        scheduler.step(val_loss_per_epoch / len(val_loader.dataset))\n",
        "\n",
        "        train_accuracy = correct_train / total_train\n",
        "        val_accuracy = correct_val / total_val\n",
        "\n",
        "        train_accuracies.append(train_accuracy)\n",
        "        test_losses.append(val_loss_per_epoch / len(val_loader.dataset))\n",
        "        test_accuracies.append(val_accuracy)\n",
        "\n",
        "        print(\"Epoch: {} Loss: {:.4f} Val_Loss: {:.4f} Train_Accuracy: {:.4f} Val_Accuracy: {:.4f}\".format(epoch+1, loss_per_epoch / len(train_loader.dataset), val_loss_per_epoch / len(val_loader.dataset), train_accuracy, val_accuracy))\n",
        "\n",
        "        train_loss.append(loss_per_epoch / len(train_loader.dataset))\n",
        "        val_loss.append(val_loss_per_epoch / len(val_loader.dataset))\n",
        "\n",
        "    return train_loss, val_loss, train_accuracies, test_losses, test_accuracies\n"
      ]
    },
    {
      "cell_type": "code",
      "execution_count": 7,
      "metadata": {
        "colab": {
          "base_uri": "https://localhost:8080/"
        },
        "id": "pYlDSHjlwVTk",
        "outputId": "2c2d25c9-b9e8-4e5a-9ce5-c4feaf6f17d5"
      },
      "outputs": [
        {
          "output_type": "stream",
          "name": "stdout",
          "text": [
            "Fitting the model...\n",
            "Epoch: 1 Loss: 1.4483 Val_Loss: 0.8790 Train_Accuracy: 0.4813 Val_Accuracy: 0.7206\n"
          ]
        },
        {
          "output_type": "stream",
          "name": "stderr",
          "text": [
            "/usr/local/lib/python3.10/dist-packages/torch/optim/lr_scheduler.py:156: UserWarning: The epoch parameter in `scheduler.step()` was not necessary and is being deprecated where possible. Please use `scheduler.step()` to step the scheduler. During the deprecation, if epoch is different from None, the closed form is used instead of the new chainable form, where available. Please open an issue if you are unable to replicate your use case: https://github.com/pytorch/pytorch/issues/new/choose.\n",
            "  warnings.warn(EPOCH_DEPRECATION_WARNING, UserWarning)\n"
          ]
        },
        {
          "output_type": "stream",
          "name": "stdout",
          "text": [
            "Epoch: 2 Loss: 0.8738 Val_Loss: 0.7031 Train_Accuracy: 0.7372 Val_Accuracy: 0.7725\n",
            "Epoch: 3 Loss: 0.7206 Val_Loss: 0.7324 Train_Accuracy: 0.7834 Val_Accuracy: 0.7657\n",
            "Epoch: 4 Loss: 0.6067 Val_Loss: 0.6397 Train_Accuracy: 0.8188 Val_Accuracy: 0.7939\n",
            "Epoch: 5 Loss: 0.5564 Val_Loss: 0.6968 Train_Accuracy: 0.8337 Val_Accuracy: 0.7823\n",
            "Epoch: 6 Loss: 0.4961 Val_Loss: 0.6862 Train_Accuracy: 0.8516 Val_Accuracy: 0.7852\n",
            "Epoch: 7 Loss: 0.4445 Val_Loss: 0.6567 Train_Accuracy: 0.8663 Val_Accuracy: 0.8001\n",
            "Epoch: 8 Loss: 0.4263 Val_Loss: 0.5811 Train_Accuracy: 0.8738 Val_Accuracy: 0.8130\n",
            "Epoch: 9 Loss: 0.3673 Val_Loss: 0.6094 Train_Accuracy: 0.8899 Val_Accuracy: 0.8149\n",
            "Epoch: 10 Loss: 0.3493 Val_Loss: 0.6232 Train_Accuracy: 0.8966 Val_Accuracy: 0.8038\n"
          ]
        }
      ],
      "source": [
        "# Define your device\n",
        "device = torch.device(\"cuda\" if torch.cuda.is_available() else \"cpu\")\n",
        "\n",
        "# Move the model to the device\n",
        "modelF.to(device)\n",
        "\n",
        "criterion = nn.CrossEntropyLoss()\n",
        "optimizer = optim.SGD(modelF.parameters(), lr=0.01, momentum=0.9, weight_decay=5e-4)\n",
        "scheduler = optim.lr_scheduler.CosineAnnealingLR(optimizer, T_max=200)\n",
        "\n",
        "transform = transforms.Compose([\n",
        "    transforms.ToTensor(),\n",
        "    transforms.Normalize((0.4914, 0.4822, 0.4465), (0.247, 0.243, 0.261))\n",
        "])\n",
        "\n",
        "# Define the number of epochs\n",
        "epochs = 10\n",
        "\n",
        "# Call the fit function to train the model\n",
        "train_loss, val_loss, train_accuracies, test_losses, test_accuracies = fit(modelF, device, trainloader, valloader, epochs)"
      ]
    },
    {
      "cell_type": "code",
      "execution_count": 8,
      "metadata": {
        "colab": {
          "base_uri": "https://localhost:8080/",
          "height": 465
        },
        "id": "jIn4g_o7NnXH",
        "outputId": "2cea3b5e-29d8-43c5-a9cd-0f939ca288f7"
      },
      "outputs": [
        {
          "output_type": "display_data",
          "data": {
            "text/plain": [
              "<Figure size 500x500 with 1 Axes>"
            ],
            "image/png": "[encoded data removed]"
          },
          "metadata": {}
        }
      ],
      "source": [
        "fig = plt.figure(figsize=(5,5))\n",
        "plt.plot(np.arange(1,11), train_loss, \"*-\",label=\"Loss\")\n",
        "plt.plot(np.arange(1,11), val_loss,\"o-\",label=\"Val Loss\")\n",
        "plt.xlabel(\"Num of epochs\")\n",
        "plt.legend()\n",
        "plt.show()"
      ]
    },
    {
      "cell_type": "code",
      "execution_count": 9,
      "metadata": {
        "colab": {
          "base_uri": "https://localhost:8080/"
        },
        "id": "1Vq-_drRXXD9",
        "outputId": "7871915b-da55-4183-ebfb-18df124a8f82"
      },
      "outputs": [
        {
          "output_type": "stream",
          "name": "stdout",
          "text": [
            "Training Accuracy: 0.90\n",
            "Validation Accuracy: 0.80\n",
            "Test Accuracy: 0.79\n"
          ]
        }
      ],
      "source": [
        "import torch\n",
        "\n",
        "def calculate_accuracy(model, data_loader, device):\n",
        "    model.eval()  # Set the model to evaluation mode\n",
        "    correct = 0\n",
        "    total = 0\n",
        "    with torch.no_grad():  # No need to compute gradients during inference\n",
        "        for images, labels in data_loader:\n",
        "            images, labels = images.to(device), labels.to(device)\n",
        "            outputs = model(images)\n",
        "            _, predicted = torch.max(outputs, 1)\n",
        "            total += labels.size(0)\n",
        "            correct += (predicted == labels).sum().item()\n",
        "    accuracy = correct / total\n",
        "    return accuracy\n",
        "\n",
        "# Assuming model, trainloader, valloader, testloader, and device are defined\n",
        "train_accuracy = calculate_accuracy(modelF, trainloader, device)\n",
        "val_accuracy = calculate_accuracy(modelF, valloader, device)\n",
        "test_accuracy = calculate_accuracy(modelF, testloader, device)\n",
        "\n",
        "print(f\"Training Accuracy: {train_accuracy:.2f}\")\n",
        "print(f\"Validation Accuracy: {val_accuracy:.2f}\")\n",
        "print(f\"Test Accuracy: {test_accuracy:.2f}\")\n"
      ]
    },
    {
      "cell_type": "code",
      "execution_count": 10,
      "metadata": {
        "id": "HC02Gxez9-21"
      },
      "outputs": [],
      "source": [
        "def fgsm_attack(input,epsilon,data_grad):\n",
        "  pert_out = input + epsilon*data_grad.sign()\n",
        "  pert_out = torch.clamp(pert_out, 0, 1)\n",
        "  return pert_out\n",
        "\n",
        "def ifgsm_attack(input,epsilon,data_grad):\n",
        "  iter = 10\n",
        "  alpha = epsilon/iter\n",
        "  pert_out = input\n",
        "  for i in range(iter-1):\n",
        "    pert_out = pert_out + alpha*data_grad.sign()\n",
        "    pert_out = torch.clamp(pert_out, 0, 1)\n",
        "    if torch.norm((pert_out-input),p=float('inf')) > epsilon:\n",
        "      break\n",
        "  return pert_out\n",
        "\n",
        "def mifgsm_attack(input,epsilon,data_grad):\n",
        "  iter=10\n",
        "  decay_factor=1.0\n",
        "  pert_out = input\n",
        "  alpha = epsilon/iter\n",
        "  g=0\n",
        "  for i in range(iter-1):\n",
        "    g = decay_factor*g + data_grad/torch.norm(data_grad,p=1)\n",
        "    pert_out = pert_out + alpha*torch.sign(g)\n",
        "    pert_out = torch.clamp(pert_out, 0, 1)\n",
        "    if torch.norm((pert_out-input),p=float('inf')) > epsilon:\n",
        "      break\n",
        "  return pert_out"
      ]
    },
    {
      "cell_type": "code",
      "execution_count": 15,
      "metadata": {
        "id": "-hDXyitW-cJ0"
      },
      "outputs": [],
      "source": [
        "import random\n",
        "\n",
        "def test_model(model, dataset, epsilons, num_random_images, attack_type='fgsm'):\n",
        "    model.eval()\n",
        "    for epsilon in epsilons:\n",
        "        correct_clean = 0\n",
        "        correct_adv = 0\n",
        "        total = 0\n",
        "\n",
        "        for _ in range(num_random_images):\n",
        "            # Randomly select a batch of images and labels from the dataset\n",
        "            inputs, labels = next(iter(dataset))\n",
        "\n",
        "            inputs, labels = inputs.cuda(), labels.cuda()  # Assuming CUDA is available\n",
        "\n",
        "            # Generate adversarial perturbation\n",
        "            inputs.requires_grad = True\n",
        "            outputs = model(inputs)\n",
        "            loss = criterion(outputs, labels)\n",
        "            loss.backward()\n",
        "\n",
        "            data_grad = inputs.grad.data\n",
        "            if attack_type == 'fgsm':\n",
        "                perturbed_inputs = fgsm_attack(inputs, epsilon, data_grad)\n",
        "            elif attack_type == 'ifgsm':\n",
        "                perturbed_inputs = ifgsm_attack(inputs, epsilon, data_grad)\n",
        "            elif attack_type == 'mifgsm':\n",
        "                perturbed_inputs = mifgsm_attack(inputs, epsilon, data_grad)\n",
        "\n",
        "            # Evaluate clean images\n",
        "            outputs_clean = model(inputs)\n",
        "            _, predicted_clean = torch.max(outputs_clean, 1)\n",
        "            correct_clean += (predicted_clean == labels).sum().item()\n",
        "\n",
        "            # Evaluate adversarial images\n",
        "            outputs_adv = model(perturbed_inputs)\n",
        "            _, predicted_adv = torch.max(outputs_adv, 1)\n",
        "            correct_adv += (predicted_adv == labels).sum().item()\n",
        "\n",
        "            total += labels.size(0)\n",
        "\n",
        "        clean_accuracy = 100 * correct_clean / (num_random_images)\n",
        "        adv_accuracy = 100 * correct_adv / (num_random_images)\n",
        "\n",
        "        print(f'Epsilon: {epsilon}\\tTest Accuracy = {correct_adv + correct_clean} / {(num_random_images)} = {((correct_adv + correct_clean) / (num_random_images)):.2f}%')\n"
      ]
    },
    {
      "cell_type": "code",
      "execution_count": 12,
      "metadata": {
        "colab": {
          "base_uri": "https://localhost:8080/"
        },
        "id": "cRHA_YPX_5JB",
        "outputId": "8218eac1-c96a-4939-e7bb-8fb72a52be87"
      },
      "outputs": [
        {
          "output_type": "stream",
          "name": "stdout",
          "text": [
            "Epsilon: 0\tTest Accuracy = 800 / 10 = 80.00%\n",
            "Epsilon: 0.007\tTest Accuracy = 780 / 10 = 78.00%\n",
            "Epsilon: 0.01\tTest Accuracy = 750 / 10 = 75.00%\n",
            "Epsilon: 0.02\tTest Accuracy = 740 / 10 = 74.00%\n",
            "Epsilon: 0.03\tTest Accuracy = 710 / 10 = 71.00%\n",
            "Epsilon: 0.05\tTest Accuracy = 680 / 10 = 68.00%\n",
            "Epsilon: 0.1\tTest Accuracy = 600 / 10 = 60.00%\n",
            "Epsilon: 0.2\tTest Accuracy = 580 / 10 = 58.00%\n",
            "Epsilon: 0.3\tTest Accuracy = 550 / 10 = 55.00%\n"
          ]
        }
      ],
      "source": [
        "# Test the model with different epsilon values\n",
        "epsilon_values = [0, 0.007, 0.01, 0.02, 0.03, 0.05, 0.1, 0.2, 0.3]\n",
        "attack_type = 'fgsm'\n",
        "num_random_images = 10\n",
        "\n",
        "# Call the test_model function with the updated parameters\n",
        "test_model(modelF, testloader, epsilon_values, num_random_images, attack_type)"
      ]
    },
    {
      "cell_type": "code",
      "execution_count": 13,
      "metadata": {
        "colab": {
          "base_uri": "https://localhost:8080/"
        },
        "id": "Ag5GHDEsk6--",
        "outputId": "a5484c7b-670e-4636-c861-918155a020de"
      },
      "outputs": [
        {
          "output_type": "stream",
          "name": "stdout",
          "text": [
            "Epsilon: 0\tTest Accuracy = 800 / 10 = 80.00%\n",
            "Epsilon: 0.007\tTest Accuracy = 800 / 10 = 80.00%\n",
            "Epsilon: 0.01\tTest Accuracy = 800 / 10 = 80.00%\n",
            "Epsilon: 0.02\tTest Accuracy = 800 / 10 = 80.00%\n",
            "Epsilon: 0.03\tTest Accuracy = 800 / 10 = 80.00%\n",
            "Epsilon: 0.05\tTest Accuracy = 790 / 10 = 79.00%\n",
            "Epsilon: 0.1\tTest Accuracy = 750 / 10 = 75.00%\n",
            "Epsilon: 0.2\tTest Accuracy = 740 / 10 = 74.00%\n",
            "Epsilon: 0.3\tTest Accuracy = 710 / 10 = 71.00%\n"
          ]
        }
      ],
      "source": [
        "# Test the model with different epsilon values\n",
        "epsilon_values = [0, 0.007, 0.01, 0.02, 0.03, 0.05, 0.1, 0.2, 0.3]\n",
        "attack_type = 'ifgsm'\n",
        "\n",
        "# Call the test_model function with the updated parameters\n",
        "test_model(modelF, testloader, epsilon_values, num_random_images, attack_type)"
      ]
    },
    {
      "cell_type": "code",
      "execution_count": 16,
      "metadata": {
        "colab": {
          "base_uri": "https://localhost:8080/"
        },
        "id": "2AOhUo8_k__A",
        "outputId": "a129ac1b-9247-46be-ae7e-b99fd923d0a1"
      },
      "outputs": [
        {
          "output_type": "stream",
          "name": "stdout",
          "text": [
            "Epsilon: 0\tTest Accuracy = 800 / 10 = 80.00%\n",
            "Epsilon: 0.007\tTest Accuracy = 800 / 10 = 80.00%\n",
            "Epsilon: 0.01\tTest Accuracy = 800 / 10 = 80.00%\n",
            "Epsilon: 0.02\tTest Accuracy = 800 / 10 = 80.00%\n",
            "Epsilon: 0.03\tTest Accuracy = 800 / 10 = 80.00%\n",
            "Epsilon: 0.05\tTest Accuracy = 790 / 10 = 79.00%\n",
            "Epsilon: 0.1\tTest Accuracy = 750 / 10 = 75.00%\n",
            "Epsilon: 0.2\tTest Accuracy = 740 / 10 = 74.00%\n",
            "Epsilon: 0.3\tTest Accuracy = 710 / 10 = 71.00%\n"
          ]
        }
      ],
      "source": [
        "# Test the model with different epsilon values\n",
        "epsilon_values = [0, 0.007, 0.01, 0.02, 0.03, 0.05, 0.1, 0.2, 0.3]\n",
        "attack_type = 'mifgsm'\n",
        "num_random_images = 10\n",
        "\n",
        "# Call the test_model function with the updated parameters\n",
        "test_model(modelF, testloader, epsilon_values, num_random_images, attack_type)"
      ]
    },
    {
      "cell_type": "markdown",
      "metadata": {
        "id": "I2w6XaDtSqPg"
      },
      "source": [
        "#  **Defense Against FGSM**"
      ]
    },
    {
      "cell_type": "code",
      "source": [
        "import torch.nn.functional as F\n",
        "import torch.nn as nn\n",
        "import torchvision.models as models\n",
        "\n",
        "class NetF1(nn.Module):\n",
        "    def __init__(self, num_classes=10):\n",
        "        super(NetF1, self).__init__()\n",
        "        # Load the pre-trained resnet101 model\n",
        "        self.resnet = models.resnet101(pretrained=True)\n",
        "\n",
        "        # Add the specified convolutional layer\n",
        "        self.resnet.conv1 = nn.Conv2d(3, 64, kernel_size=3, stride=1, padding=1, bias=False)\n",
        "\n",
        "        # Modify the head of the model\n",
        "        num_features = self.resnet.fc.in_features\n",
        "        self.resnet.fc = nn.Identity()  # Remove the fully connected layer\n",
        "\n",
        "        # Define the head of the model\n",
        "        self.head = nn.Sequential(\n",
        "            nn.Linear(num_features, 1024),\n",
        "            nn.ReLU(),\n",
        "            nn.Dropout(0.5),\n",
        "            nn.Linear(1024, 512),\n",
        "            nn.ReLU(),\n",
        "            nn.Dropout(0.5),\n",
        "            nn.Linear(512, 128),\n",
        "            nn.ReLU(),\n",
        "            nn.Dropout(0.5),\n",
        "            nn.Linear(128, 10)  # Output layer\n",
        "        )\n",
        "\n",
        "    def forward(self, x):\n",
        "        # Forward pass through the modified resnet101 model\n",
        "        x = self.resnet(x)\n",
        "        # Forward pass through the head of the model\n",
        "        x = self.head(x)\n",
        "        return x\n",
        "\n",
        "# Instantiate the model\n",
        "modelF1 = NetF1()"
      ],
      "metadata": {
        "id": "JCz5AOL-_vgq",
        "colab": {
          "base_uri": "https://localhost:8080/"
        },
        "outputId": "6fec5d8a-ab9b-4b5f-df2e-c0c3c4ae66b1"
      },
      "execution_count": 17,
      "outputs": [
        {
          "output_type": "stream",
          "name": "stderr",
          "text": [
            "/usr/local/lib/python3.10/dist-packages/torchvision/models/_utils.py:223: UserWarning: Arguments other than a weight enum or `None` for 'weights' are deprecated since 0.13 and may be removed in the future. The current behavior is equivalent to passing `weights=ResNet101_Weights.IMAGENET1K_V1`. You can also use `weights=ResNet101_Weights.DEFAULT` to get the most up-to-date weights.\n",
            "  warnings.warn(msg)\n",
            "Downloading: \"https://download.pytorch.org/models/resnet101-63fe2227.pth\" to /root/.cache/torch/hub/checkpoints/resnet101-63fe2227.pth\n",
            "100%|██████████| 171M/171M [00:02<00:00, 82.0MB/s]\n"
          ]
        }
      ]
    },
    {
      "cell_type": "code",
      "execution_count": 22,
      "metadata": {
        "id": "MRQ2JD510gKY"
      },
      "outputs": [],
      "source": [
        "def fgsm_attack(input,epsilon,data_grad):\n",
        "  pert_out = input + epsilon*data_grad.sign()\n",
        "  pert_out = torch.clamp(pert_out, 0, 1)\n",
        "  return pert_out\n",
        "\n",
        "def ifgsm_attack(input,epsilon,data_grad):\n",
        "  iter = 10\n",
        "  alpha = epsilon/iter\n",
        "  pert_out = input\n",
        "  for i in range(iter-1):\n",
        "    pert_out = pert_out + alpha*data_grad.sign()\n",
        "    pert_out = torch.clamp(pert_out, 0, 1)\n",
        "    if torch.norm((pert_out-input),p=float('inf')) > epsilon:\n",
        "      break\n",
        "  return pert_out\n",
        "\n",
        "def mifgsm_attack(input,epsilon,data_grad):\n",
        "  iter=10\n",
        "  decay_factor=1.0\n",
        "  alpha = epsilon/iter\n",
        "  pert_out = input\n",
        "  g=0\n",
        "  for i in range(iter-1):\n",
        "    g = decay_factor*g + data_grad/torch.norm(data_grad,p=1)\n",
        "    pert_out = pert_out + alpha*torch.sign(g)\n",
        "    pert_out = torch.clamp(pert_out, 0, 1)\n",
        "    if torch.norm((pert_out-input),p=float('inf')) > epsilon:\n",
        "      break\n",
        "  return pert_out"
      ]
    },
    {
      "cell_type": "code",
      "execution_count": 21,
      "metadata": {
        "id": "ozWhbnZykM-Y"
      },
      "outputs": [],
      "source": [
        "def fit(model,device,optimizer,scheduler,criterion,train_loader,val_loader,Temp,epochs):\n",
        "  data_loader = {'train':train_loader,'val':val_loader}\n",
        "  print(\"Fitting the model...\")\n",
        "  train_loss,val_loss=[],[]\n",
        "  for epoch in range(epochs):\n",
        "    loss_per_epoch,val_loss_per_epoch=0,0\n",
        "    for phase in ('train','val'):\n",
        "      for i,data in enumerate(data_loader[phase]):\n",
        "        input,label  = data[0].to(device),data[1].to(device)\n",
        "        output = model(input)\n",
        "        output = F.log_softmax(output/Temp,dim=1)\n",
        "        #calculating loss on the output\n",
        "        loss = criterion(output,label)\n",
        "        if phase == 'train':\n",
        "          optimizer.zero_grad()\n",
        "          #grad calc w.r.t Loss func\n",
        "          loss.backward()\n",
        "          #update weights\n",
        "          optimizer.step()\n",
        "          loss_per_epoch+=loss.item()\n",
        "        else:\n",
        "          val_loss_per_epoch+=loss.item()\n",
        "    scheduler.step(val_loss_per_epoch/len(val_loader))\n",
        "    print(\"Epoch: {} Loss: {} Val_Loss: {}\".format(epoch+1,loss_per_epoch/len(train_loader),val_loss_per_epoch/len(val_loader)))\n",
        "    train_loss.append(loss_per_epoch/len(train_loader))\n",
        "    val_loss.append(val_loss_per_epoch/len(val_loader))\n",
        "  return train_loss,val_loss"
      ]
    },
    {
      "cell_type": "code",
      "execution_count": 23,
      "metadata": {
        "id": "QwbI3joPzmyi"
      },
      "outputs": [],
      "source": [
        "def defense(device, train_loader, val_loader, test_loader, epochs, Temp, epsilons):\n",
        "\n",
        "    modelF1 = NetF1().to(device)\n",
        "\n",
        "    optimizerF1 = optim.Adam(modelF1.parameters(), lr=0.0001, betas=(0.9, 0.999))\n",
        "    schedulerF1 = optim.lr_scheduler.ReduceLROnPlateau(optimizerF1, mode='min', factor=0.1, patience=3)\n",
        "\n",
        "    print(\"For ModelF:\")\n",
        "    modelF = NetF().to(device)\n",
        "    optimizerF = optim.Adam(modelF.parameters(), lr=0.0001, betas=(0.9, 0.999))\n",
        "    schedulerF = optim.lr_scheduler.ReduceLROnPlateau(optimizerF, mode='min', factor=0.1, patience=3)\n",
        "\n",
        "    criterion = nn.CrossEntropyLoss()\n",
        "\n",
        "    # Train modelF with or without adversarial examples\n",
        "    lossF, val_lossF = fit(modelF, device, optimizerF, schedulerF, criterion, train_loader, val_loader, Temp, epochs)\n",
        "    fig = plt.figure(figsize=(5, 5))\n",
        "    plt.plot(np.arange(1, epochs + 1), lossF, \"*-\", label=\"Loss\")\n",
        "    plt.plot(np.arange(1, epochs + 1), val_lossF, \"o-\", label=\"Val Loss\")\n",
        "    plt.title(\"Network F(Student Model)\")\n",
        "    plt.xlabel(\"Num of epochs\")\n",
        "    plt.legend()\n",
        "    plt.show()\n",
        "\n",
        "    # Convert target labels to soft labels for modelF\n",
        "    for data in train_loader:\n",
        "        input, label = data[0].to(device), data[1].to(device)\n",
        "        softlabel = F.log_softmax(modelF(input), dim=1)\n",
        "        data[1] = softlabel\n",
        "    print(\"For ModelF1:\")\n",
        "    # Train modelF1 with or without adversarial examples\n",
        "    lossF1, val_lossF1 = fit(modelF1, device, optimizerF1, schedulerF1, criterion, train_loader, val_loader, Temp,\n",
        "                             epochs)\n",
        "    fig = plt.figure(figsize=(5, 5))\n",
        "    plt.plot(np.arange(1, epochs + 1), lossF1, \"*-\", label=\"Loss\")\n",
        "    plt.plot(np.arange(1, epochs + 1), val_lossF1, \"o-\", label=\"Val Loss\")\n",
        "    plt.title(\"Network F1(Teacher Model)'\")\n",
        "    plt.xlabel(\"Num of epochs\")\n",
        "    plt.legend()\n",
        "    plt.show()\n",
        "\n",
        "    return modelF, modelF1"
      ]
    },
    {
      "cell_type": "code",
      "execution_count": 24,
      "metadata": {
        "colab": {
          "base_uri": "https://localhost:8080/",
          "height": 1000
        },
        "id": "SE_TL8MMgZiP",
        "outputId": "e18e4774-7937-467e-e974-480fff3e90d2"
      },
      "outputs": [
        {
          "output_type": "stream",
          "name": "stdout",
          "text": [
            "For ModelF:\n",
            "Fitting the model...\n",
            "Epoch: 1 Loss: 1.8887112800598145 Val_Loss: 1.4128563107958265\n",
            "Epoch: 2 Loss: 1.0522978293418885 Val_Loss: 0.879371726209191\n",
            "Epoch: 3 Loss: 0.6778419564247131 Val_Loss: 0.7965067108725287\n",
            "Epoch: 4 Loss: 0.48701005811691284 Val_Loss: 0.7093546437989374\n",
            "Epoch: 5 Loss: 0.3568030676007271 Val_Loss: 0.7845330933097062\n",
            "Epoch: 6 Loss: 0.2875009468078613 Val_Loss: 0.7560921000067595\n",
            "Epoch: 7 Loss: 0.21787897408604623 Val_Loss: 0.7588667328570299\n",
            "Epoch: 8 Loss: 0.18485085762143136 Val_Loss: 0.7971668927722676\n",
            "Epoch: 9 Loss: 0.10599615490585565 Val_Loss: 0.7531088853527785\n",
            "Epoch: 10 Loss: 0.07628732315152884 Val_Loss: 0.7745379739126582\n"
          ]
        },
        {
          "output_type": "display_data",
          "data": {
            "text/plain": [
              "<Figure size 500x500 with 1 Axes>"
            ],
            "image/png": "[encoded data removed]"
          },
          "metadata": {}
        },
        {
          "output_type": "stream",
          "name": "stdout",
          "text": [
            "For ModelF1:\n",
            "Fitting the model...\n",
            "Epoch: 1 Loss: 1.9018007793426515 Val_Loss: 1.5027036408709873\n",
            "Epoch: 2 Loss: 1.1874212250709533 Val_Loss: 0.9862161673557986\n",
            "Epoch: 3 Loss: 0.7325245930671692 Val_Loss: 0.7870732536361476\n",
            "Epoch: 4 Loss: 0.47329398555755614 Val_Loss: 0.7199431226891317\n",
            "Epoch: 5 Loss: 0.31851838479042055 Val_Loss: 0.7266697513449724\n",
            "Epoch: 6 Loss: 0.23120535856485366 Val_Loss: 0.6978752381482701\n",
            "Epoch: 7 Loss: 0.171420423707366 Val_Loss: 0.799687530679308\n",
            "Epoch: 8 Loss: 0.1422176325455308 Val_Loss: 0.8629511966826809\n",
            "Epoch: 9 Loss: 0.11330130611881614 Val_Loss: 0.8222033646266171\n",
            "Epoch: 10 Loss: 0.08920305793955922 Val_Loss: 0.8682033296223659\n"
          ]
        },
        {
          "output_type": "display_data",
          "data": {
            "text/plain": [
              "<Figure size 500x500 with 1 Axes>"
            ],
            "image/png": "[encoded data removed]"
          },
          "metadata": {}
        }
      ],
      "source": [
        "# Define the parameters\n",
        "Temp = 100\n",
        "epochs = 10\n",
        "epsilons = [0, 0.007, 0.01, 0.02, 0.03, 0.05, 0.1, 0.2, 0.3]\n",
        "\n",
        "# Call the defense function and store the returned models\n",
        "modelF, modelF1 = defense(device, trainloader, valloader, testloader, epochs, Temp, epsilons)"
      ]
    },
    {
      "cell_type": "markdown",
      "source": [
        "### Teacher Model"
      ],
      "metadata": {
        "id": "Lzc6pTJpF9dL"
      }
    },
    {
      "cell_type": "code",
      "execution_count": 25,
      "metadata": {
        "colab": {
          "base_uri": "https://localhost:8080/"
        },
        "id": "owxTo1CBA7Bc",
        "outputId": "c5bead7f-e3ae-49ca-e04f-b8c1cd2405e3"
      },
      "outputs": [
        {
          "output_type": "stream",
          "name": "stdout",
          "text": [
            "Epsilon: 0\tTest Accuracy = 820 / 10 = 82.00%\n",
            "Epsilon: 0.007\tTest Accuracy = 820 / 10 = 82.00%\n",
            "Epsilon: 0.01\tTest Accuracy = 810 / 10 = 81.00%\n",
            "Epsilon: 0.02\tTest Accuracy = 800 / 10 = 80.00%\n",
            "Epsilon: 0.03\tTest Accuracy = 800 / 10 = 80.00%\n",
            "Epsilon: 0.05\tTest Accuracy = 800 / 10 = 80.00%\n",
            "Epsilon: 0.1\tTest Accuracy = 790 / 10 = 79.00%\n",
            "Epsilon: 0.2\tTest Accuracy = 800 / 10 = 80.00%\n",
            "Epsilon: 0.3\tTest Accuracy = 800 / 10 = 80.00%\n"
          ]
        }
      ],
      "source": [
        "# Test the model with different epsilon values\n",
        "epsilon_values = [0, 0.007, 0.01, 0.02, 0.03, 0.05, 0.1, 0.2, 0.3]\n",
        "attack_type = 'fgsm'\n",
        "num_random_images = 10\n",
        "# Call the test_model function with the updated parameters\n",
        "test_model(modelF1, testloader, epsilon_values, num_random_images, attack_type)"
      ]
    },
    {
      "cell_type": "code",
      "source": [
        "# Test the model with different epsilon values\n",
        "epsilon_values = [0, 0.007, 0.01, 0.02, 0.03, 0.05, 0.1, 0.2, 0.3]\n",
        "attack_type = 'ifgsm'\n",
        "num_random_images = 10\n",
        "# Call the test_model function with the updated parameters\n",
        "test_model(modelF1, testloader, epsilon_values, num_random_images, attack_type)"
      ],
      "metadata": {
        "colab": {
          "base_uri": "https://localhost:8080/"
        },
        "id": "pbYnpetrv4X4",
        "outputId": "5301525f-23dc-437a-9a84-ca3f838a306a"
      },
      "execution_count": 26,
      "outputs": [
        {
          "output_type": "stream",
          "name": "stdout",
          "text": [
            "Epsilon: 0\tTest Accuracy = 820 / 10 = 82.00%\n",
            "Epsilon: 0.007\tTest Accuracy = 820 / 10 = 82.00%\n",
            "Epsilon: 0.01\tTest Accuracy = 820 / 10 = 82.00%\n",
            "Epsilon: 0.02\tTest Accuracy = 820 / 10 = 82.00%\n",
            "Epsilon: 0.03\tTest Accuracy = 820 / 10 = 82.00%\n",
            "Epsilon: 0.05\tTest Accuracy = 820 / 10 = 82.00%\n",
            "Epsilon: 0.1\tTest Accuracy = 810 / 10 = 81.00%\n",
            "Epsilon: 0.2\tTest Accuracy = 800 / 10 = 80.00%\n",
            "Epsilon: 0.3\tTest Accuracy = 800 / 10 = 80.00%\n"
          ]
        }
      ]
    },
    {
      "cell_type": "code",
      "source": [
        "# Test the model with different epsilon values\n",
        "epsilon_values = [0, 0.007, 0.01, 0.02, 0.03, 0.05, 0.1, 0.2, 0.3]\n",
        "attack_type = 'mifgsm'\n",
        "num_random_images = 10\n",
        "# Call the test_model function with the updated parameters\n",
        "test_model(modelF1, testloader, epsilon_values, num_random_images, attack_type)"
      ],
      "metadata": {
        "colab": {
          "base_uri": "https://localhost:8080/"
        },
        "id": "Dfh3SWY7v-hX",
        "outputId": "03098981-5783-41e4-cbad-fcdd5c7cba7f"
      },
      "execution_count": 27,
      "outputs": [
        {
          "output_type": "stream",
          "name": "stdout",
          "text": [
            "Epsilon: 0\tTest Accuracy = 820 / 10 = 82.00%\n",
            "Epsilon: 0.007\tTest Accuracy = 820 / 10 = 82.00%\n",
            "Epsilon: 0.01\tTest Accuracy = 820 / 10 = 82.00%\n",
            "Epsilon: 0.02\tTest Accuracy = 820 / 10 = 82.00%\n",
            "Epsilon: 0.03\tTest Accuracy = 820 / 10 = 82.00%\n",
            "Epsilon: 0.05\tTest Accuracy = 820 / 10 = 82.00%\n",
            "Epsilon: 0.1\tTest Accuracy = 810 / 10 = 81.00%\n",
            "Epsilon: 0.2\tTest Accuracy = 800 / 10 = 80.00%\n",
            "Epsilon: 0.3\tTest Accuracy = 800 / 10 = 80.00%\n"
          ]
        }
      ]
    },
    {
      "cell_type": "markdown",
      "source": [
        "### Student Model"
      ],
      "metadata": {
        "id": "gMkg8AZhGEFN"
      }
    },
    {
      "cell_type": "code",
      "execution_count": 29,
      "metadata": {
        "colab": {
          "base_uri": "https://localhost:8080/"
        },
        "outputId": "0c60ec4c-d81b-4866-bba0-6f4161412cab",
        "id": "w5_QkVGhGEFO"
      },
      "outputs": [
        {
          "output_type": "stream",
          "name": "stdout",
          "text": [
            "Epsilon: 0\tTest Accuracy = 870 / 10 = 87.00%\n",
            "Epsilon: 0.007\tTest Accuracy = 870 / 10 = 87.00%\n",
            "Epsilon: 0.01\tTest Accuracy = 870 / 10 = 87.00%\n",
            "Epsilon: 0.02\tTest Accuracy = 870 / 10 = 87.00%\n",
            "Epsilon: 0.03\tTest Accuracy = 870 / 10 = 87.00%\n",
            "Epsilon: 0.05\tTest Accuracy = 860 / 10 = 86.00%\n",
            "Epsilon: 0.1\tTest Accuracy = 870 / 10 = 87.00%\n",
            "Epsilon: 0.2\tTest Accuracy = 870 / 10 = 87.00%\n",
            "Epsilon: 0.3\tTest Accuracy = 870 / 10 = 87.00%\n"
          ]
        }
      ],
      "source": [
        "# Test the model with different epsilon values\n",
        "epsilon_values = [0, 0.007, 0.01, 0.02, 0.03, 0.05, 0.1, 0.2, 0.3]\n",
        "attack_type = 'fgsm'\n",
        "num_random_images = 10\n",
        "# Call the test_model function with the updated parameters\n",
        "test_model(modelF, testloader, epsilon_values, num_random_images, attack_type)"
      ]
    },
    {
      "cell_type": "code",
      "source": [
        "# Test the model with different epsilon values\n",
        "epsilon_values = [0, 0.007, 0.01, 0.02, 0.03, 0.05, 0.1, 0.2, 0.3]\n",
        "attack_type = 'ifgsm'\n",
        "num_random_images = 10\n",
        "# Call the test_model function with the updated parameters\n",
        "test_model(modelF, testloader, epsilon_values, num_random_images, attack_type)"
      ],
      "metadata": {
        "colab": {
          "base_uri": "https://localhost:8080/"
        },
        "outputId": "6194dbf1-9666-4b80-ac92-fe9525220904",
        "id": "dM1qun4WGEFO"
      },
      "execution_count": 30,
      "outputs": [
        {
          "output_type": "stream",
          "name": "stdout",
          "text": [
            "Epsilon: 0\tTest Accuracy = 870 / 10 = 87.00%\n",
            "Epsilon: 0.007\tTest Accuracy = 870 / 10 = 87.00%\n",
            "Epsilon: 0.01\tTest Accuracy = 870 / 10 = 87.00%\n",
            "Epsilon: 0.02\tTest Accuracy = 870 / 10 = 87.00%\n",
            "Epsilon: 0.03\tTest Accuracy = 870 / 10 = 87.00%\n",
            "Epsilon: 0.05\tTest Accuracy = 870 / 10 = 87.00%\n",
            "Epsilon: 0.1\tTest Accuracy = 870 / 10 = 87.00%\n",
            "Epsilon: 0.2\tTest Accuracy = 870 / 10 = 87.00%\n",
            "Epsilon: 0.3\tTest Accuracy = 870 / 10 = 87.00%\n"
          ]
        }
      ]
    },
    {
      "cell_type": "code",
      "source": [
        "# Test the model with different epsilon values\n",
        "epsilon_values = [0, 0.007, 0.01, 0.02, 0.03, 0.05, 0.1, 0.2, 0.3]\n",
        "attack_type = 'mifgsm'\n",
        "num_random_images = 10\n",
        "# Call the test_model function with the updated parameters\n",
        "test_model(modelF, testloader, epsilon_values, num_random_images, attack_type)"
      ],
      "metadata": {
        "colab": {
          "base_uri": "https://localhost:8080/"
        },
        "outputId": "d16a1f45-0ec6-44fc-fef8-65cb4dc4138d",
        "id": "ROsmSv9wGEFO"
      },
      "execution_count": 31,
      "outputs": [
        {
          "output_type": "stream",
          "name": "stdout",
          "text": [
            "Epsilon: 0\tTest Accuracy = 870 / 10 = 87.00%\n",
            "Epsilon: 0.007\tTest Accuracy = 870 / 10 = 87.00%\n",
            "Epsilon: 0.01\tTest Accuracy = 870 / 10 = 87.00%\n",
            "Epsilon: 0.02\tTest Accuracy = 870 / 10 = 87.00%\n",
            "Epsilon: 0.03\tTest Accuracy = 870 / 10 = 87.00%\n",
            "Epsilon: 0.05\tTest Accuracy = 870 / 10 = 87.00%\n",
            "Epsilon: 0.1\tTest Accuracy = 870 / 10 = 87.00%\n",
            "Epsilon: 0.2\tTest Accuracy = 870 / 10 = 87.00%\n",
            "Epsilon: 0.3\tTest Accuracy = 870 / 10 = 87.00%\n"
          ]
        }
      ]
    },
    {
      "cell_type": "markdown",
      "source": [
        "### Saving the model"
      ],
      "metadata": {
        "id": "gVjmwdjDJGED"
      }
    },
    {
      "cell_type": "code",
      "source": [
        "import torch\n",
        "\n",
        "# Save modelF\n",
        "torch.save(modelF.state_dict(), 'modelF.pth')\n",
        "\n",
        "# Save modelF1\n",
        "torch.save(modelF1.state_dict(), 'modelF1.pth')"
      ],
      "metadata": {
        "id": "wSTbLUORJEWr"
      },
      "execution_count": 32,
      "outputs": []
    },
    {
      "cell_type": "markdown",
      "metadata": {
        "id": "I9uleOsId0Tq"
      },
      "source": [
        "# **CW Attack Breaking the defence**"
      ]
    },
    {
      "cell_type": "code",
      "source": [
        "# Initialize modelF and load the state dictionary\n",
        "modelF = NetF().to(device)\n",
        "modelF.load_state_dict(torch.load('modelF.pth'))\n",
        "\n",
        "# Initialize modelF1 and load the state dictionary\n",
        "modelF1 = NetF1().to(device)\n",
        "modelF1.load_state_dict(torch.load('modelF1.pth'))\n"
      ],
      "metadata": {
        "id": "06BS58YnJ1kj"
      },
      "execution_count": null,
      "outputs": []
    },
    {
      "cell_type": "code",
      "execution_count": null,
      "metadata": {
        "id": "ZsJMrk9dMB3u"
      },
      "outputs": [],
      "source": [
        "# Function to load CIFAR-10 dataset\n",
        "def load_cifar10(batch_size_train=64, batch_size_test=1000):\n",
        "    transform = transforms.Compose([\n",
        "        transforms.ToTensor(),\n",
        "        transforms.Normalize((0.5, 0.5, 0.5), (0.5, 0.5, 0.5)),\n",
        "    ])\n",
        "\n",
        "    trainset = torchvision.datasets.CIFAR10(root='./data', train=True, download=True, transform=transform)\n",
        "    trainloader = torch.utils.data.DataLoader(trainset, batch_size=batch_size_train, shuffle=True)\n",
        "\n",
        "    testset = torchvision.datasets.CIFAR10(root='./data', train=False, download=True, transform=transform)\n",
        "    testloader = torch.utils.data.DataLoader(testset, batch_size=batch_size_test, shuffle=False)\n",
        "\n",
        "    classes = ('plane', 'car', 'bird', 'cat', 'deer', 'dog', 'frog', 'horse', 'ship', 'truck')\n",
        "\n",
        "    return trainloader, testloader, classes\n"
      ]
    },
    {
      "cell_type": "code",
      "execution_count": null,
      "metadata": {
        "id": "HEp_1Vhxd5B8"
      },
      "outputs": [],
      "source": [
        "# Function to perform Carlini-Wagner attack\n",
        "def carlini_wagner_attack(model, imgs, labels, epsilon=0.01, confidence=0, max_iterations=100, initial_lr=0.01):\n",
        "    device = imgs.device\n",
        "    batch_size = imgs.size(0)\n",
        "\n",
        "    # Initialize perturbation\n",
        "    delta = torch.zeros_like(imgs, requires_grad=True).to(device)\n",
        "\n",
        "    # Define C&W loss function\n",
        "    def cw_loss(output, target, confidence):\n",
        "        target_one_hot = F.one_hot(target, num_classes=output.shape[-1]).float().to(device)\n",
        "        target_one_hot = target_one_hot.unsqueeze(1)\n",
        "\n",
        "        # Calculating the logits of the target class\n",
        "        target_logits = torch.sum(target_one_hot * output, dim=-1)\n",
        "\n",
        "        # Calculating the logits of the other classes\n",
        "        other_logits = torch.max((1 - target_one_hot) * output - target_one_hot * 10000, dim=-1)[0]\n",
        "\n",
        "        # CW loss function\n",
        "        loss = torch.max(target_logits - other_logits + confidence, torch.tensor(0.0).to(device))\n",
        "        return loss.mean()\n",
        "\n",
        "    # Adam optimizer for updating the perturbation\n",
        "    optimizer = optim.Adam([delta], lr=initial_lr)\n",
        "\n",
        "    for iteration in range(max_iterations):\n",
        "        # Generate adversarial images\n",
        "        adv_imgs = imgs + torch.tanh(delta)\n",
        "        adv_imgs = torch.clamp(adv_imgs, 0, 1)\n",
        "\n",
        "        # Forward pass to get model predictions\n",
        "        preds = model(adv_imgs)\n",
        "\n",
        "        # Calculate C&W loss\n",
        "        loss = cw_loss(preds, labels, confidence)\n",
        "\n",
        "        # Backward pass to compute gradients\n",
        "        optimizer.zero_grad()\n",
        "        loss.backward()\n",
        "        optimizer.step()\n",
        "\n",
        "        # Clip perturbation\n",
        "        delta.data = torch.clamp(delta.data, -epsilon, epsilon)\n",
        "\n",
        "    # Return adversarial examples\n",
        "    adv_imgs = imgs + torch.tanh(delta)\n",
        "    adv_imgs = torch.clamp(adv_imgs, 0, 1)\n",
        "    return adv_imgs.detach()\n"
      ]
    },
    {
      "cell_type": "code",
      "execution_count": null,
      "metadata": {
        "id": "1Bykopgi7BOt"
      },
      "outputs": [],
      "source": [
        "# Select a sample from the test set\n",
        "dataiter = iter(testloader)\n",
        "images, labels = next(dataiter)\n",
        "\n",
        "# Assuming the target label is 'bird' (class label 2)\n",
        "target_label = torch.tensor([2])\n"
      ]
    },
    {
      "cell_type": "code",
      "execution_count": null,
      "metadata": {
        "id": "ceRcSruvJOWS"
      },
      "outputs": [],
      "source": []
    }
  ],
  "metadata": {
    "accelerator": "GPU",
    "colab": {
      "collapsed_sections": [
        "ojfonaxgSvQE"
      ],
      "provenance": []
    },
    "kernelspec": {
      "display_name": "Python 3",
      "name": "python3"
    },
    "language_info": {
      "codemirror_mode": {
        "name": "ipython",
        "version": 3
      },
      "file_extension": ".py",
      "mimetype": "text/x-python",
      "name": "python",
      "nbconvert_exporter": "python",
      "pygments_lexer": "ipython3",
      "version": "3.10.12"
    }
  },
  "nbformat": 4,
  "nbformat_minor": 0
}